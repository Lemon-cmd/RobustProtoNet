{
 "cells": [
  {
   "cell_type": "code",
   "execution_count": 1,
   "id": "d5779d8e-24e9-48c9-8e7b-9b9c418c8acc",
   "metadata": {},
   "outputs": [
    {
     "name": "stderr",
     "output_type": "stream",
     "text": [
      "/gpfs/u/home/PCPB/PCPBphmb/scratch/AI-CONDA/lib/python3.9/site-packages/tqdm/auto.py:22: TqdmWarning: IProgress not found. Please update jupyter and ipywidgets. See https://ipywidgets.readthedocs.io/en/stable/user_install.html\n",
      "  from .autonotebook import tqdm as notebook_tqdm\n"
     ]
    }
   ],
   "source": [
    "## PyTorch\n",
    "import torch\n",
    "import numpy as np\n",
    "import torch.nn as nn\n",
    "import torch.optim as optim\n",
    "import torch.nn.functional as F\n",
    "\n",
    "import pandas as pd\n",
    "import learn2learn as l2l\n",
    "\n",
    "from einops import rearrange\n",
    "\n",
    "from torch.utils.data import DataLoader\n",
    "from learn2learn.data.transforms import NWays, KShots, LoadData, RemapLabels\n",
    "\n",
    "from protonet_classic import ProtoNet\n",
    "from protonet_custom import CustProtoNet\n",
    "\n",
    "device = 'cuda' if torch.cuda.is_available() else 'cpu'\n",
    "\n",
    "%load_ext autoreload\n",
    "%autoreload 2"
   ]
  },
  {
   "cell_type": "code",
   "execution_count": 2,
   "id": "acf1cc13-50ac-4264-a8e2-6336ab638fa9",
   "metadata": {},
   "outputs": [],
   "source": [
    "def GetDataLoaders(train_dataset,\n",
    "                   train_shot, train_way, train_query,\n",
    "                   valid_dataset,\n",
    "                   valid_shot, valid_way, valid_query,\n",
    "                   test_dataset, \n",
    "                   test_shot, test_way, test_query,\n",
    "                  ):\n",
    "    \n",
    "    valid_num_tasks, test_num_tasks = 600, 2000\n",
    "    \n",
    "    train_dataset = l2l.data.MetaDataset(train_dataset)\n",
    "    \n",
    "    train_transforms = [\n",
    "        NWays(train_dataset, train_way),\n",
    "        KShots(train_dataset, train_query + train_shot),\n",
    "        LoadData(train_dataset),\n",
    "        RemapLabels(train_dataset),\n",
    "    ]\n",
    "    \n",
    "    train_tasks = l2l.data.TaskDataset(train_dataset, \n",
    "                                       task_transforms = train_transforms)\n",
    "    \n",
    "    train_loader = DataLoader(train_tasks, pin_memory=True, shuffle=True)\n",
    "\n",
    "    valid_dataset = l2l.data.MetaDataset(valid_dataset)\n",
    "    \n",
    "    valid_transforms = [\n",
    "        NWays(valid_dataset, valid_way),\n",
    "        KShots(valid_dataset, valid_query + valid_shot),\n",
    "        LoadData(valid_dataset),\n",
    "        RemapLabels(valid_dataset),\n",
    "    ]\n",
    "    \n",
    "    valid_tasks = l2l.data.TaskDataset(valid_dataset,\n",
    "                                       task_transforms = valid_transforms,\n",
    "                                       num_tasks = valid_num_tasks)\n",
    "    valid_loader = DataLoader(valid_tasks, pin_memory=True, shuffle=True)\n",
    "\n",
    "    test_dataset = l2l.data.MetaDataset(test_dataset)\n",
    "    \n",
    "    test_transforms = [\n",
    "        NWays(test_dataset, test_way),\n",
    "        KShots(test_dataset, test_query + test_shot),\n",
    "        LoadData(test_dataset),\n",
    "        RemapLabels(test_dataset),\n",
    "    ]\n",
    "    \n",
    "    test_tasks = l2l.data.TaskDataset(test_dataset,\n",
    "                                      task_transforms=test_transforms,\n",
    "                                      num_tasks = test_num_tasks)\n",
    "    \n",
    "    test_loader = DataLoader(test_tasks, pin_memory=True, shuffle=True)\n",
    "    \n",
    "    return train_loader, valid_loader, test_loader"
   ]
  },
  {
   "cell_type": "markdown",
   "id": "84b82401-b0ba-4b63-8578-1bde4b66f8d8",
   "metadata": {},
   "source": [
    "# Accuracy and Distance Metric"
   ]
  },
  {
   "cell_type": "code",
   "execution_count": 3,
   "id": "f8ed65f9-9c32-44d1-a63c-636d0ae6a056",
   "metadata": {},
   "outputs": [],
   "source": [
    "def accuracy(predictions, targets):\n",
    "    predictions = torch.max(predictions, -1)[-1]\n",
    "    return (predictions == targets).sum().float().item() / targets.size(0)"
   ]
  },
  {
   "cell_type": "code",
   "execution_count": 4,
   "id": "6522d01c-ecee-4425-a6bf-63bafff489d6",
   "metadata": {},
   "outputs": [],
   "source": [
    "def pairwise_distance_logits(a, b):\n",
    "    n = a.shape[0]\n",
    "    m = b.shape[0]\n",
    "    \n",
    "    logits = -(((a.unsqueeze(1).expand(n, m, -1) - \n",
    "                b.unsqueeze(0).expand(n, m, -1))**2).sum(dim=2))\n",
    "              \n",
    "    return logits"
   ]
  },
  {
   "cell_type": "markdown",
   "id": "9b3c74ed-e420-4344-8584-2d0551502782",
   "metadata": {},
   "source": [
    "# Loss Functions\n",
    "## Classic"
   ]
  },
  {
   "cell_type": "code",
   "execution_count": 5,
   "id": "c22aad08-3921-49fa-baff-5e22eef41ce9",
   "metadata": {},
   "outputs": [],
   "source": [
    "def ProtoNetLoss(model, query, support, labels, ways, shots):\n",
    "    # support prototypes\n",
    "    cs = model.fit(support, ways, shots)\n",
    "    \n",
    "    # euclidean distance between embedded query and prototype\n",
    "    dist = pairwise_distance_logits(query, cs)\n",
    "    \n",
    "    yhat = torch.log_softmax(dist, -1)\n",
    "    \n",
    "    return F.nll_loss(yhat, labels), accuracy(yhat, labels)"
   ]
  },
  {
   "cell_type": "markdown",
   "id": "54fefee9-6b47-4fcc-a74f-ca7e59ce756f",
   "metadata": {},
   "source": [
    "# New"
   ]
  },
  {
   "cell_type": "code",
   "execution_count": 6,
   "id": "846e8056-8eca-4aff-affb-192a559d5858",
   "metadata": {},
   "outputs": [],
   "source": [
    "def CustProtoNetLoss(model, query, support, labels, ways, shots, reg_val = 0.01):\n",
    "    # query prototypes\n",
    "    cq = model.fit(query, ways, shots)\n",
    "    \n",
    "    # support prototypes\n",
    "    cs = model.fit(support, ways, shots)\n",
    "    \n",
    "    # euc-distance between embedded query and supp prototype\n",
    "    dist1 = pairwise_distance_logits(query, cs)\n",
    "\n",
    "    cq = cq.reshape(-1, cs.size(0), cs.size(1))\n",
    "\n",
    "    # euc-distance between query proto and supp proto\n",
    "    dist2 = -((cq - cs).pow(2).sum(-1))\n",
    "    dist2 = dist2.repeat(labels.size(0) // dist2.size(0), 1)\n",
    "    \n",
    "    yhat = torch.log_softmax(dist1, -1)\n",
    "    chat = torch.log_softmax(dist2, -1)\n",
    "    \n",
    "    # we want to maximize the two probabilities\n",
    "    loss = F.nll_loss(yhat, labels) + reg_val * F.nll_loss(chat, labels)\n",
    "    \n",
    "    return loss, accuracy(yhat, labels)"
   ]
  },
  {
   "cell_type": "markdown",
   "id": "5ca1acc8-d870-443b-9ec1-e23d346b7174",
   "metadata": {},
   "source": [
    "# Adaptation (Train) Function"
   ]
  },
  {
   "cell_type": "code",
   "execution_count": 7,
   "id": "68b76b5f-8823-4829-87ce-f20e0ba1f7f6",
   "metadata": {},
   "outputs": [],
   "source": [
    "def fast_adapt(model, batch, ways, shots, query_num, loss):\n",
    "    data, labels = batch\n",
    "    \n",
    "    data = data.to(device)\n",
    "    labels = labels.to(device)\n",
    "    \n",
    "    n_items = shots * ways\n",
    "\n",
    "    # Sort data samples by labels\n",
    "    sort = torch.sort(labels)\n",
    "    \n",
    "    data = data.squeeze(0)[sort.indices].squeeze(0)\n",
    "    \n",
    "    labels = labels.squeeze(0)[sort.indices].squeeze(0)\n",
    "\n",
    "    # Compute support and query embeddings\n",
    "    embeddings = model(data)\n",
    "    support_indices = np.zeros(data.size(0), dtype=bool)\n",
    "    \n",
    "    selection = np.arange(ways) * (shots + query_num)\n",
    "    \n",
    "    for offset in range(shots):\n",
    "        support_indices[selection + offset] = True\n",
    "        \n",
    "    query_indices = torch.from_numpy(~support_indices)\n",
    "    support_indices = torch.from_numpy(support_indices)\n",
    "    \n",
    "    # separate query and support\n",
    "    query = embeddings[query_indices]\n",
    "    support = embeddings[support_indices]   \n",
    "    labels = labels[query_indices].long()   \n",
    " \n",
    "    return loss(model, query, support, labels, ways, shots)"
   ]
  },
  {
   "cell_type": "markdown",
   "id": "c242ccbb-fc79-46d6-a60e-f876f9a732d2",
   "metadata": {},
   "source": [
    "# Evaluation and Training Loop"
   ]
  },
  {
   "cell_type": "code",
   "execution_count": 8,
   "id": "c9bc727f-4532-407d-a11b-d0c66b0f77d2",
   "metadata": {},
   "outputs": [],
   "source": [
    "def eval_proto(model, ProtoLoss, valid_loader, \n",
    "               valid_way, valid_shot, valid_query, corrupt_rate = 0.0):\n",
    "    from random import random\n",
    "    \n",
    "    model.eval()\n",
    "    Loss, Acc = 0.0, 0.0\n",
    "    corrupt_image_p = -1.0\n",
    "    \n",
    "    with torch.no_grad():\n",
    "        for i, batch in enumerate(valid_loader):\n",
    "            if corrupt_rate > 0.0:\n",
    "                corrupt_image_p = random()\n",
    "            \n",
    "            if corrupt_image_p <= corrupt_rate and corrupt_image_p > 0.0:\n",
    "                batch[0] += torch.randn(batch[0].shape) * (0.5 ** 0.5)\n",
    "            \n",
    "            loss, acc = fast_adapt( model,\n",
    "                                    batch,\n",
    "                                    valid_way,\n",
    "                                    valid_shot,\n",
    "                                    valid_query,\n",
    "                                    ProtoLoss\n",
    "                                  )\n",
    "\n",
    "            Acc += acc\n",
    "            Loss += loss.item()\n",
    "    \n",
    "    Acc /= len(valid_loader)\n",
    "    Loss /= len(valid_loader)\n",
    "    \n",
    "    return Loss, Acc"
   ]
  },
  {
   "cell_type": "code",
   "execution_count": 9,
   "id": "299fbe19-b4de-4745-9bdc-7f244e051abe",
   "metadata": {},
   "outputs": [],
   "source": [
    "def train_proto(model, optimizer, lr_scheduler, ProtoLoss,\n",
    "                train_loader, \n",
    "                train_way, train_shot, train_query,\n",
    "                \n",
    "                valid_loader, \n",
    "                valid_way, valid_shot, valid_query,\n",
    "                epochs = 10, episodes = 100, corrupt_rate = 0.0, save_path = None):\n",
    "    \n",
    "    assert(epochs > 0 and episodes > 0)\n",
    "    \n",
    "    from random import random\n",
    "    \n",
    "    model.train()\n",
    "    \n",
    "    train_ahist, valid_ahist = [], []\n",
    "    train_lhist, valid_lhist = [], []\n",
    "    \n",
    "    for epoch in range(1, epochs + 1):\n",
    "        Loss, Acc = 0.0, 0.0\n",
    "        \n",
    "        corrupt_image_p = -1.0\n",
    "        \n",
    "        for i in range(episodes):\n",
    "            \n",
    "            batch = next(iter(train_loader))\n",
    "            \n",
    "            \"\"\" Corrupt some images based on some probability \"\"\"\n",
    "            if corrupt_rate > 0.0:\n",
    "                corrupt_image_p = random()\n",
    "            \n",
    "            # Add Gaussian Noise with Variance of 0.7\n",
    "            if corrupt_image_p <= corrupt_rate and corrupt_image_p > 0.0:\n",
    "                batch[0] += torch.randn(batch[0].shape) * (0.5 ** 0.5)\n",
    "            \n",
    "            loss, acc = fast_adapt( model,\n",
    "                                    batch,\n",
    "                                    train_way,\n",
    "                                    train_shot,\n",
    "                                    train_query,\n",
    "                                    ProtoLoss,\n",
    "                                  )\n",
    "\n",
    "            Acc += acc\n",
    "            Loss += loss.item()\n",
    "\n",
    "            optimizer.zero_grad()\n",
    "            loss.backward()\n",
    "            optimizer.step()\n",
    "\n",
    "        lr_scheduler.step()\n",
    "        \n",
    "        Acc /= episodes\n",
    "        Loss /= episodes\n",
    "        \n",
    "        train_ahist.append(Acc)\n",
    "        train_lhist.append(Loss)\n",
    "        print(\"Epoch: {0}\\tLoss: {1:.8f}\\tAcc: {2:.5f}\".format(epoch, Loss, Acc))\n",
    "        \n",
    "        # Perform Validation\n",
    "        valLoss, valAcc = eval_proto(model, ProtoLoss, valid_loader, valid_way, valid_shot, valid_query, corrupt_rate)\n",
    "        print(\"Val--- Loss: {0:.8f}\\tAcc: {1:.5f}\".format(valLoss, valAcc))\n",
    "        \n",
    "        valid_ahist.append(valAcc)\n",
    "        valid_lhist.append(valLoss)\n",
    "        \n",
    "        # save per epoch\n",
    "        if (save_path != None and type(save_path) == str):\n",
    "            checkpoint = {'Train-AHist' : train_ahist,\n",
    "                          'Train-LHist' : train_lhist,\n",
    "                          'Val-AHist' : valid_ahist,\n",
    "                          'Val-LHist' : valid_lhist,\n",
    "                          'state_dict': model.state_dict(),\n",
    "                          'optimizer': optimizer.state_dict(),\n",
    "                         }\n",
    "            \n",
    "            torch.save(checkpoint, save_path)\n",
    "        \n",
    "    \n",
    "    return model, optimizer, (train_ahist, valid_ahist, train_lhist, valid_lhist)"
   ]
  },
  {
   "cell_type": "markdown",
   "id": "30eb2d4b-51a2-46e8-9df5-75c1e6903fa6",
   "metadata": {},
   "source": [
    "# Model Reload Function"
   ]
  },
  {
   "cell_type": "code",
   "execution_count": 10,
   "id": "3facb7b4-a602-4ea4-9cfa-0849311c2a55",
   "metadata": {},
   "outputs": [],
   "source": [
    "def reload(model, optimizer, path):\n",
    "    import os \n",
    "    \n",
    "    if (os.path.isfile(path)):\n",
    "        checkpoint = torch.load(path)\n",
    "        model.load_state_dict(checkpoint['state_dict'])\n",
    "        optimizer.load_state_dict(checkpoint['optimizer'])\n",
    "    \n",
    "    return model, optimizer,"
   ]
  },
  {
   "cell_type": "markdown",
   "id": "df57fe1d-1c50-4743-9d49-71d39faaff81",
   "metadata": {},
   "source": [
    "# Load MiniImagenet"
   ]
  },
  {
   "cell_type": "code",
   "execution_count": 11,
   "id": "d0997b96-7704-469f-be61-6217fbb1c621",
   "metadata": {},
   "outputs": [],
   "source": [
    "train_dataset = l2l.vision.datasets.MiniImagenet(\n",
    "    root=\"../data/\", mode='train', download=True)\n",
    "    \n",
    "valid_dataset = l2l.vision.datasets.MiniImagenet(\n",
    "    root=\"../data/\", mode='validation', download=True)\n",
    "\n",
    "test_dataset = l2l.vision.datasets.MiniImagenet(\n",
    "    root=\"../data/\", mode='test', download=True)"
   ]
  },
  {
   "cell_type": "markdown",
   "id": "5eea79be-b46f-45ae-8297-79e8262383e0",
   "metadata": {},
   "source": [
    "## According to Proto Paper (Snell et al. pg. 6) \n",
    "## Train ProtoNet with 20-way for 5 shot\n",
    "## Validate and Test with 5 way 5 shot"
   ]
  },
  {
   "cell_type": "code",
   "execution_count": 12,
   "id": "5132719f-21b4-4ac9-92db-5cf4efc34540",
   "metadata": {},
   "outputs": [],
   "source": [
    "train_way, valid_way, test_way = 20, 5, 5\n",
    "    \n",
    "train_shot, valid_shot, test_shot = 5, 5, 5\n",
    "\n",
    "train_query, valid_query, test_query = 15, 15, 15"
   ]
  },
  {
   "cell_type": "code",
   "execution_count": 13,
   "id": "0bcc1384-1c22-4783-9f04-68027d4f43a0",
   "metadata": {},
   "outputs": [],
   "source": [
    "train_loader, valid_loader, test_loader = GetDataLoaders(train_dataset, train_shot, train_way, train_query,\n",
    "                                                         valid_dataset, valid_shot, valid_way, valid_query,\n",
    "                                                         test_dataset, test_shot, test_way, test_query\n",
    "                                                        )"
   ]
  },
  {
   "cell_type": "markdown",
   "id": "331727ad-8bd1-488b-b7dc-a8f00a9dc3ff",
   "metadata": {},
   "source": [
    "# Train the Original Model with Original Loss Function"
   ]
  },
  {
   "cell_type": "code",
   "execution_count": 14,
   "id": "16b389bf-4d4d-43e2-935f-12c1c77f793e",
   "metadata": {},
   "outputs": [
    {
     "name": "stdout",
     "output_type": "stream",
     "text": [
      "Epoch: 1\tLoss: 11.37568003\tAcc: 0.14983\n",
      "Val--- Loss: 1.48392528\tAcc: 0.36149\n"
     ]
    },
    {
     "name": "stderr",
     "output_type": "stream",
     "text": [
      "/gpfs/u/home/PCPB/PCPBphmb/scratch/AI-CONDA/lib/python3.9/site-packages/torch/nn/modules/module.py:1383: UserWarning: positional arguments and argument \"destination\" are deprecated. nn.Module.state_dict will not accept them in the future. Refer to https://pytorch.org/docs/master/generated/torch.nn.Module.html#torch.nn.Module.state_dict for details.\n",
      "  warnings.warn(\n"
     ]
    },
    {
     "name": "stdout",
     "output_type": "stream",
     "text": [
      "Epoch: 2\tLoss: 2.65778637\tAcc: 0.20038\n",
      "Val--- Loss: 1.35805348\tAcc: 0.43673\n",
      "Epoch: 3\tLoss: 2.51147727\tAcc: 0.24550\n",
      "Val--- Loss: 1.32440432\tAcc: 0.45736\n",
      "Epoch: 4\tLoss: 2.42348406\tAcc: 0.27183\n",
      "Val--- Loss: 1.29873669\tAcc: 0.46904\n",
      "Epoch: 5\tLoss: 2.36066620\tAcc: 0.28778\n",
      "Val--- Loss: 1.26994116\tAcc: 0.48551\n",
      "Epoch: 6\tLoss: 2.30058993\tAcc: 0.30232\n",
      "Val--- Loss: 1.23529800\tAcc: 0.49996\n",
      "Epoch: 7\tLoss: 2.25757733\tAcc: 0.31563\n",
      "Val--- Loss: 1.23860557\tAcc: 0.50431\n",
      "Epoch: 8\tLoss: 2.23257493\tAcc: 0.32295\n",
      "Val--- Loss: 1.15967400\tAcc: 0.53580\n",
      "Epoch: 9\tLoss: 2.16163034\tAcc: 0.34025\n",
      "Val--- Loss: 1.18716302\tAcc: 0.52709\n",
      "Epoch: 10\tLoss: 2.14952027\tAcc: 0.34753\n",
      "Val--- Loss: 1.16017019\tAcc: 0.53633\n"
     ]
    }
   ],
   "source": [
    "classic_model = ProtoNet(in_channels = 3, out_dim = 64, hid_dim = 128)\n",
    "classic_model = classic_model.to(device)\n",
    "classic_optimizer = optim.Adam(classic_model.parameters(), lr = 1e-3)\n",
    "\n",
    "classic_model, classic_optimizer = reload(classic_model, \n",
    "                                          classic_optimizer, \"classic_protonet_l1.pth\")\n",
    "\n",
    "classic_lr_scheduler = optim.lr_scheduler.StepLR(classic_optimizer, step_size = 10, gamma=0.5)\n",
    "\n",
    "classic_model, classic_optimizer, hist1 = train_proto(classic_model, classic_optimizer, \n",
    "                                                       classic_lr_scheduler, ProtoNetLoss,\n",
    "                                                       train_loader, \n",
    "                                                       train_way, train_shot, train_query,\n",
    "                                                       valid_loader, \n",
    "                                                       valid_way, valid_shot, valid_query,\n",
    "                                                       epochs = 10, episodes = 200, corrupt_rate = 0.5, save_path = \"classic_protonet_l1.pth\")"
   ]
  },
  {
   "cell_type": "markdown",
   "id": "5b8ca234-a1e3-462c-86a8-918cc01297ec",
   "metadata": {},
   "source": [
    "# Train Custom Model With Custom Loss Function"
   ]
  },
  {
   "cell_type": "code",
   "execution_count": 14,
   "id": "f740377e-f02d-48fa-8508-45111032cb99",
   "metadata": {},
   "outputs": [
    {
     "name": "stdout",
     "output_type": "stream",
     "text": [
      "Epoch: 1\tLoss: 17.40981426\tAcc: 0.15695\n",
      "Val--- Loss: 1.55047221\tAcc: 0.37140\n"
     ]
    },
    {
     "name": "stderr",
     "output_type": "stream",
     "text": [
      "/gpfs/u/home/PCPB/PCPBphmb/scratch/AI-CONDA/lib/python3.9/site-packages/torch/nn/modules/module.py:1383: UserWarning: positional arguments and argument \"destination\" are deprecated. nn.Module.state_dict will not accept them in the future. Refer to https://pytorch.org/docs/master/generated/torch.nn.Module.html#torch.nn.Module.state_dict for details.\n",
      "  warnings.warn(\n"
     ]
    },
    {
     "name": "stdout",
     "output_type": "stream",
     "text": [
      "Epoch: 2\tLoss: 2.65489993\tAcc: 0.21452\n",
      "Val--- Loss: 1.38754596\tAcc: 0.42829\n",
      "Epoch: 3\tLoss: 2.53900344\tAcc: 0.24527\n",
      "Val--- Loss: 1.31192861\tAcc: 0.46918\n",
      "Epoch: 4\tLoss: 2.46412005\tAcc: 0.26637\n",
      "Val--- Loss: 1.29827711\tAcc: 0.47538\n",
      "Epoch: 5\tLoss: 2.37937688\tAcc: 0.29038\n",
      "Val--- Loss: 1.27464366\tAcc: 0.49004\n",
      "Epoch: 6\tLoss: 2.34865676\tAcc: 0.30012\n",
      "Val--- Loss: 1.29605338\tAcc: 0.48036\n",
      "Epoch: 7\tLoss: 2.31109235\tAcc: 0.31037\n",
      "Val--- Loss: 1.21810691\tAcc: 0.51664\n",
      "Epoch: 8\tLoss: 2.26522995\tAcc: 0.32333\n",
      "Val--- Loss: 1.23033961\tAcc: 0.50907\n",
      "Epoch: 9\tLoss: 2.21549895\tAcc: 0.33665\n",
      "Val--- Loss: 1.17369334\tAcc: 0.53467\n",
      "Epoch: 10\tLoss: 2.17187415\tAcc: 0.34675\n",
      "Val--- Loss: 1.19363749\tAcc: 0.52364\n",
      "Epoch: 11\tLoss: 2.14694352\tAcc: 0.35627\n",
      "Val--- Loss: 1.15598761\tAcc: 0.54284\n",
      "Epoch: 12\tLoss: 2.07537771\tAcc: 0.37463\n",
      "Val--- Loss: 1.15604753\tAcc: 0.54418\n",
      "Epoch: 13\tLoss: 2.07492784\tAcc: 0.37377\n",
      "Val--- Loss: 1.15887246\tAcc: 0.54524\n",
      "Epoch: 14\tLoss: 2.07168759\tAcc: 0.37560\n",
      "Val--- Loss: 1.14307510\tAcc: 0.55122\n",
      "Epoch: 15\tLoss: 1.97371999\tAcc: 0.40430\n",
      "Val--- Loss: 1.11822031\tAcc: 0.56782\n",
      "Epoch: 16\tLoss: 1.95956742\tAcc: 0.40973\n",
      "Val--- Loss: 1.13398885\tAcc: 0.55700\n",
      "Epoch: 17\tLoss: 1.96398363\tAcc: 0.41230\n",
      "Val--- Loss: 1.08012923\tAcc: 0.58138\n",
      "Epoch: 18\tLoss: 1.92067270\tAcc: 0.42130\n",
      "Val--- Loss: 1.10266418\tAcc: 0.57293\n",
      "Epoch: 19\tLoss: 1.88093908\tAcc: 0.43197\n",
      "Val--- Loss: 1.07991719\tAcc: 0.58402\n",
      "Epoch: 20\tLoss: 1.85976354\tAcc: 0.43667\n",
      "Val--- Loss: 1.07528877\tAcc: 0.58598\n",
      "Epoch: 21\tLoss: 1.75883393\tAcc: 0.46695\n",
      "Val--- Loss: 1.00532589\tAcc: 0.61520\n",
      "Epoch: 22\tLoss: 1.73441631\tAcc: 0.47673\n",
      "Val--- Loss: 1.00381829\tAcc: 0.61487\n",
      "Epoch: 23\tLoss: 1.70329323\tAcc: 0.48292\n",
      "Val--- Loss: 1.02010531\tAcc: 0.61209\n",
      "Epoch: 24\tLoss: 1.69662746\tAcc: 0.48308\n",
      "Val--- Loss: 1.01149733\tAcc: 0.61289\n",
      "Epoch: 25\tLoss: 1.69147465\tAcc: 0.48930\n",
      "Val--- Loss: 0.98664200\tAcc: 0.62224\n",
      "Epoch: 26\tLoss: 1.66078001\tAcc: 0.49580\n",
      "Val--- Loss: 1.00757099\tAcc: 0.61842\n",
      "Epoch: 27\tLoss: 1.63682484\tAcc: 0.50618\n",
      "Val--- Loss: 0.98785485\tAcc: 0.62220\n",
      "Epoch: 28\tLoss: 1.64174659\tAcc: 0.50388\n",
      "Val--- Loss: 0.99620691\tAcc: 0.62311\n",
      "Epoch: 29\tLoss: 1.59478741\tAcc: 0.51558\n",
      "Val--- Loss: 0.98727318\tAcc: 0.62509\n",
      "Epoch: 30\tLoss: 1.58593712\tAcc: 0.51865\n",
      "Val--- Loss: 0.98739508\tAcc: 0.62620\n",
      "Epoch: 31\tLoss: 1.58030264\tAcc: 0.51953\n",
      "Val--- Loss: 0.97861749\tAcc: 0.62607\n",
      "Epoch: 32\tLoss: 1.55796313\tAcc: 0.52917\n",
      "Val--- Loss: 0.99063287\tAcc: 0.62967\n",
      "Epoch: 33\tLoss: 1.55690195\tAcc: 0.52978\n",
      "Val--- Loss: 0.95310649\tAcc: 0.63889\n",
      "Epoch: 34\tLoss: 1.53079396\tAcc: 0.53492\n",
      "Val--- Loss: 0.97371149\tAcc: 0.63213\n",
      "Epoch: 35\tLoss: 1.53009234\tAcc: 0.53620\n",
      "Val--- Loss: 0.98041732\tAcc: 0.62936\n",
      "Epoch: 36\tLoss: 1.48929429\tAcc: 0.54565\n",
      "Val--- Loss: 0.97499328\tAcc: 0.63389\n",
      "Epoch: 37\tLoss: 1.47439213\tAcc: 0.55343\n",
      "Val--- Loss: 0.95652362\tAcc: 0.64078\n",
      "Epoch: 38\tLoss: 1.47092347\tAcc: 0.55095\n",
      "Val--- Loss: 0.96606903\tAcc: 0.63569\n",
      "Epoch: 39\tLoss: 1.44754420\tAcc: 0.55832\n",
      "Val--- Loss: 0.96843303\tAcc: 0.63824\n",
      "Epoch: 40\tLoss: 1.42839297\tAcc: 0.56672\n",
      "Val--- Loss: 0.95001553\tAcc: 0.64473\n"
     ]
    }
   ],
   "source": [
    "cust_model = CustProtoNet(in_channels = 3, out_dim = 64, hid_dim = 128)\n",
    "\n",
    "cust_model = cust_model.to(device)\n",
    "\n",
    "cust_optimizer = optim.Adam(cust_model.parameters(), lr = 1e-3)\n",
    "\n",
    "cust_model, cust_optimizer = reload(cust_model, cust_optimizer, \"custom_protonet_l2.pth\")\n",
    "\n",
    "cust_lr_scheduler = optim.lr_scheduler.StepLR(cust_optimizer, step_size = 20, gamma=0.5)\n",
    "\n",
    "cust_model, cust_optimizer, hist4 = train_proto(cust_model, cust_optimizer, cust_lr_scheduler, CustProtoNetLoss,\n",
    "                                               train_loader, \n",
    "                                               train_way, train_shot, train_query,\n",
    "                                               valid_loader, \n",
    "                                               valid_way, valid_shot, valid_query,\n",
    "                                               epochs = 40, episodes = 200, corrupt_rate = 0.5, save_path = \"custom_protonet_l2.pth\")"
   ]
  },
  {
   "cell_type": "markdown",
   "id": "e8d82c70-2b55-49be-bc28-bbe81f32d91a",
   "metadata": {},
   "source": [
    "# Test Models with 0.5 (50%) corruption rate\n",
    "### Each test loader has 2000 episodes (or 2000 batches) in GetDataLoaders()"
   ]
  },
  {
   "cell_type": "code",
   "execution_count": 32,
   "id": "2151b24b-ae40-4382-8dd0-8883031e6646",
   "metadata": {},
   "outputs": [],
   "source": [
    "train_way, valid_way, test_way = 20, 5, 5\n",
    "    \n",
    "train_shot, valid_shot, test_shot = 5, 5, 5\n",
    "\n",
    "train_query, valid_query, test_query = 15, 15, 15"
   ]
  },
  {
   "cell_type": "markdown",
   "id": "80a90d9c-e676-4886-b6d2-2c2afd67c14f",
   "metadata": {},
   "source": [
    "## Test the Classic Model trained w/ Classic Loss (Model 1)"
   ]
  },
  {
   "cell_type": "code",
   "execution_count": 18,
   "id": "dcf57d3e-9f0c-4bf5-a4fd-c6f1993982e3",
   "metadata": {},
   "outputs": [
    {
     "name": "stdout",
     "output_type": "stream",
     "text": [
      "Loss: 1.10283968 \t Acc: 0.56025\n",
      "Loss: 1.09969471 \t Acc: 0.56067\n",
      "Loss: 1.09958767 \t Acc: 0.56335\n",
      "Loss: 1.10234089 \t Acc: 0.56153\n",
      "Loss: 1.11085636 \t Acc: 0.55897\n",
      "\n",
      "Avg-Loss: 1.10306386 \t Avg-Acc: 0.56095 \t Std-Acc: 0.00146\n"
     ]
    }
   ],
   "source": [
    "clf1 = ProtoNet(in_channels = 3, out_dim = 64, hid_dim = 128)\n",
    "clf1 = clf1.to(device)\n",
    "\n",
    "clf1_opt = optim.Adam(clf1.parameters(), lr = 1e-3)\n",
    "clf1, _ = reload(clf1, clf1_opt, \"classic_protonet_l1.pth\")\n",
    "\n",
    "clf1_loss, clf1_acc = [], []\n",
    "\n",
    "for _ in range(5):\n",
    "    _, _, test_loader = GetDataLoaders(train_dataset, train_shot, train_way, train_query,\n",
    "                                        valid_dataset, valid_shot, valid_way, valid_query,\n",
    "                                        test_dataset, test_shot, test_way, test_query\n",
    "                                        )\n",
    "        \n",
    "    loss, acc = eval_proto(clf1, ProtoNetLoss, test_loader, \n",
    "                           test_way, test_shot, test_query, \n",
    "                           corrupt_rate = 0.5)\n",
    "    clf1_acc.append(acc)\n",
    "    clf1_loss.append(loss)\n",
    "    \n",
    "    print(\"Loss: {0:.8f} \\t Acc: {1:.5f}\".format(loss, acc))\n",
    "    \n",
    "print(\"\\nAvg-Loss: {0:.8f} \\t Avg-Acc: {1:.5f} \\t Std-Acc: {2:.5f}\".format(np.array(clf1_loss).mean(), \n",
    "                                                                         np.array(clf1_acc).mean(), \n",
    "                                                                         np.array(clf1_acc).std()))"
   ]
  },
  {
   "cell_type": "markdown",
   "id": "16cbb9c8-f9de-40c1-bb94-7226ca2861f9",
   "metadata": {},
   "source": [
    "## Test the Custom Model trained w/ Custom Loss (Model 2)"
   ]
  },
  {
   "cell_type": "code",
   "execution_count": 15,
   "id": "4b1a4acf-9f90-4700-81c3-d61dbfd0d27b",
   "metadata": {},
   "outputs": [
    {
     "name": "stdout",
     "output_type": "stream",
     "text": [
      "Loss: 0.97531233 \t Acc: 0.63369\n",
      "Loss: 0.96519444 \t Acc: 0.63769\n",
      "Loss: 0.96284826 \t Acc: 0.63888\n",
      "Loss: 0.96959615 \t Acc: 0.63495\n",
      "Loss: 0.97092916 \t Acc: 0.63469\n",
      "\n",
      "Avg-Loss: 0.96877607 \t Avg-Acc: 0.63598 \t Std-Acc: 0.00196\n"
     ]
    }
   ],
   "source": [
    "clf2 = CustProtoNet(in_channels = 3, out_dim = 64, hid_dim = 128)\n",
    "clf2 = clf2.to(device)\n",
    "\n",
    "clf2_opt = optim.Adam(clf2.parameters(), lr = 1e-3)\n",
    "clf2, _ = reload(clf2, clf2_opt, \"custom_protonet_l2.pth\")\n",
    "\n",
    "clf2_loss, clf2_acc = [], []\n",
    "\n",
    "for _ in range(5):\n",
    "    _, _, test_loader = GetDataLoaders(train_dataset, train_shot, train_way, train_query,\n",
    "                                        valid_dataset, valid_shot, valid_way, valid_query,\n",
    "                                        test_dataset, test_shot, test_way, test_query\n",
    "                                        )\n",
    "        \n",
    "    loss, acc = eval_proto(clf2, CustProtoNetLoss, test_loader, \n",
    "                           test_way, test_shot, test_query, \n",
    "                           corrupt_rate = 0.5)\n",
    "    clf2_acc.append(acc)\n",
    "    clf2_loss.append(loss)\n",
    "    \n",
    "    print(\"Loss: {0:.8f} \\t Acc: {1:.5f}\".format(loss, acc))\n",
    "    \n",
    "print(\"\\nAvg-Loss: {0:.8f} \\t Avg-Acc: {1:.5f} \\t Std-Acc: {2:.5f}\".format(np.array(clf2_loss).mean(), \n",
    "                                                                         np.array(clf2_acc).mean(), \n",
    "                                                                         np.array(clf2_acc).std()))"
   ]
  },
  {
   "cell_type": "code",
   "execution_count": 16,
   "id": "fecd9fc3-ef2e-4579-b9bc-079d0ac3875d",
   "metadata": {},
   "outputs": [
    {
     "name": "stdout",
     "output_type": "stream",
     "text": [
      "Loss: 0.97831556 \t Acc: 0.63227\n",
      "Loss: 0.96863284 \t Acc: 0.63495\n",
      "Loss: 0.97064643 \t Acc: 0.63458\n",
      "Loss: 0.96682899 \t Acc: 0.63661\n",
      "Loss: 0.96195190 \t Acc: 0.63831\n",
      "\n",
      "Avg-Loss: 0.96927514 \t Avg-Acc: 0.63534 \t Std-Acc: 0.00203\n"
     ]
    }
   ],
   "source": [
    "clf2 = CustProtoNet(in_channels = 3, out_dim = 64, hid_dim = 128)\n",
    "clf2 = clf2.to(device)\n",
    "\n",
    "clf2_opt = optim.Adam(clf2.parameters(), lr = 1e-3)\n",
    "clf2, _ = reload(clf2, clf2_opt, \"custom_protonet_l2.pth\")\n",
    "\n",
    "clf2_loss, clf2_acc = [], []\n",
    "\n",
    "for _ in range(5):\n",
    "    _, _, test_loader = GetDataLoaders(train_dataset, train_shot, train_way, train_query,\n",
    "                                        valid_dataset, valid_shot, valid_way, valid_query,\n",
    "                                        test_dataset, test_shot, test_way, test_query\n",
    "                                        )\n",
    "        \n",
    "    loss, acc = eval_proto(clf2, CustProtoNetLoss, test_loader, \n",
    "                           test_way, test_shot, test_query, \n",
    "                           corrupt_rate = 0.3)\n",
    "    clf2_acc.append(acc)\n",
    "    clf2_loss.append(loss)\n",
    "    \n",
    "    print(\"Loss: {0:.8f} \\t Acc: {1:.5f}\".format(loss, acc))\n",
    "    \n",
    "print(\"\\nAvg-Loss: {0:.8f} \\t Avg-Acc: {1:.5f} \\t Std-Acc: {2:.5f}\".format(np.array(clf2_loss).mean(), \n",
    "                                                                         np.array(clf2_acc).mean(), \n",
    "                                                                         np.array(clf2_acc).std()))"
   ]
  },
  {
   "cell_type": "code",
   "execution_count": 17,
   "id": "9f8e2564-0fe2-4368-916a-e0cde294e9ed",
   "metadata": {},
   "outputs": [
    {
     "name": "stdout",
     "output_type": "stream",
     "text": [
      "Loss: 0.96007232 \t Acc: 0.64057\n",
      "Loss: 0.96422618 \t Acc: 0.64031\n",
      "Loss: 0.96674590 \t Acc: 0.63627\n",
      "Loss: 0.98211414 \t Acc: 0.63273\n",
      "Loss: 0.96471389 \t Acc: 0.63880\n",
      "\n",
      "Avg-Loss: 0.96757449 \t Avg-Acc: 0.63773 \t Std-Acc: 0.00293\n"
     ]
    }
   ],
   "source": [
    "clf2 = CustProtoNet(in_channels = 3, out_dim = 64, hid_dim = 128)\n",
    "clf2 = clf2.to(device)\n",
    "\n",
    "clf2_opt = optim.Adam(clf2.parameters(), lr = 1e-3)\n",
    "clf2, _ = reload(clf2, clf2_opt, \"custom_protonet_l2.pth\")\n",
    "\n",
    "clf2_loss, clf2_acc = [], []\n",
    "\n",
    "for _ in range(5):\n",
    "    _, _, test_loader = GetDataLoaders(train_dataset, train_shot, train_way, train_query,\n",
    "                                        valid_dataset, valid_shot, valid_way, valid_query,\n",
    "                                        test_dataset, test_shot, test_way, test_query\n",
    "                                        )\n",
    "        \n",
    "    loss, acc = eval_proto(clf2, CustProtoNetLoss, test_loader, \n",
    "                           test_way, test_shot, test_query, \n",
    "                           corrupt_rate = 0.1)\n",
    "    clf2_acc.append(acc)\n",
    "    clf2_loss.append(loss)\n",
    "    \n",
    "    print(\"Loss: {0:.8f} \\t Acc: {1:.5f}\".format(loss, acc))\n",
    "    \n",
    "print(\"\\nAvg-Loss: {0:.8f} \\t Avg-Acc: {1:.5f} \\t Std-Acc: {2:.5f}\".format(np.array(clf2_loss).mean(), \n",
    "                                                                         np.array(clf2_acc).mean(), \n",
    "                                                                         np.array(clf2_acc).std()))"
   ]
  },
  {
   "cell_type": "markdown",
   "id": "aa83c043-c8d7-41d4-b15d-3597b5c66f5f",
   "metadata": {},
   "source": [
    "# Visualize Prototypes of 5-way 100-shot "
   ]
  },
  {
   "cell_type": "code",
   "execution_count": 14,
   "id": "edf29a57-c96d-45f1-af86-3cf907095602",
   "metadata": {},
   "outputs": [],
   "source": [
    "from sklearn.manifold import TSNE\n",
    "\n",
    "import matplotlib.pyplot as plt\n",
    "from matplotlib.colors import ListedColormap\n",
    "\n",
    "clf2 = CustProtoNet(in_channels = 3, out_dim = 64, hid_dim = 128)\n",
    "clf2 = clf2.to(device)\n",
    "\n",
    "clf2_opt = optim.Adam(clf2.parameters(), lr = 1e-3)\n",
    "clf2, _ = reload(clf2, clf2_opt, \"custom_protonet_l2.pth\")"
   ]
  },
  {
   "cell_type": "code",
   "execution_count": 137,
   "id": "0580d7b8-ef85-436f-acf7-2c17f8ad0cf3",
   "metadata": {},
   "outputs": [],
   "source": [
    "train_way, valid_way, test_way = 20, 5, 5\n",
    "    \n",
    "train_shot, valid_shot, test_shot = 5, 5, 100\n",
    "\n",
    "train_query, valid_query, test_query = 15, 15, 1\n",
    "\n",
    "_, valid_loader, test_loader = GetDataLoaders(train_dataset, train_shot, train_way, train_query,\n",
    "                                    valid_dataset, valid_shot, valid_way, valid_query,\n",
    "                                    test_dataset, test_shot, test_way, test_query\n",
    "                                    )\n",
    "\n",
    "X, y = next(iter(test_loader))\n",
    "\n",
    "X, y = X.squeeze(0), y.squeeze(0)\n",
    "\n",
    "X = X.to(device)\n",
    "y = y.to(device)\n",
    "\n",
    "sort = torch.sort(y)\n",
    "    \n",
    "X = X[sort.indices]\n",
    "    \n",
    "y = y[sort.indices]"
   ]
  },
  {
   "cell_type": "code",
   "execution_count": 138,
   "id": "1c551b85-2000-4347-938d-0dc352ede525",
   "metadata": {},
   "outputs": [
    {
     "name": "stderr",
     "output_type": "stream",
     "text": [
      "/gpfs/u/home/PCPB/PCPBphmb/scratch/AI-CONDA/lib/python3.9/site-packages/sklearn/manifold/_t_sne.py:982: FutureWarning: The PCA initialization in TSNE will change to have the standard deviation of PC1 equal to 1e-4 in 1.2. This will ensure better convergence.\n",
      "  warnings.warn(\n",
      "/gpfs/u/home/PCPB/PCPBphmb/scratch/AI-CONDA/lib/python3.9/site-packages/sklearn/manifold/_t_sne.py:982: FutureWarning: The PCA initialization in TSNE will change to have the standard deviation of PC1 equal to 1e-4 in 1.2. This will ensure better convergence.\n",
      "  warnings.warn(\n"
     ]
    }
   ],
   "source": [
    "fq = clf2(X)\n",
    "cq = clf2.fit(fq, test_way, test_shot)\n",
    "\n",
    "cq = cq.cpu().detach().numpy()\n",
    "fq = fq.cpu().detach().numpy()\n",
    "\n",
    "fq_embedded = TSNE(n_components=2, perplexity=test_way, learning_rate=50,\n",
    "                      init='random').fit_transform(fq)\n",
    "\n",
    "cq_embedded = TSNE(n_components=2, perplexity=test_way, learning_rate=50,\n",
    "                      init='random').fit_transform(cq)"
   ]
  },
  {
   "cell_type": "code",
   "execution_count": 157,
   "id": "1d8a6998-5b80-42b4-bbe8-dd0a830e1fba",
   "metadata": {},
   "outputs": [
    {
     "data": {
      "image/png": "[encoded data removed]",
      "text/plain": [
       "<Figure size 576x576 with 1 Axes>"
      ]
     },
     "metadata": {
      "needs_background": "light"
     },
     "output_type": "display_data"
    }
   ],
   "source": [
    "labels = [i for i in range(test_way)]\n",
    "colors = ['red','green','blue','purple', 'black']\n",
    "\n",
    "plt.figure(figsize=(8, 8))\n",
    "plt.title(\"Prototypes Noise Rate 50%\\n\")\n",
    "\n",
    "plt.scatter(fq_embedded[:, 0], fq_embedded[:, 1], c=y.cpu().detach().numpy(), cmap=ListedColormap(colors), alpha=0.7, marker='+')\n",
    "plt.scatter(cq_embedded[:, 0], cq_embedded[:, 1], c=labels, cmap=ListedColormap(colors), s = 300, alpha = 0.8)\n",
    "\n",
    "plt.show()"
   ]
  },
  {
   "cell_type": "markdown",
   "id": "1e5c3a2b-241c-4e33-8bda-551ea84c0d2e",
   "metadata": {},
   "source": [
    "# Prototypes of 3-way 100-shot "
   ]
  },
  {
   "cell_type": "code",
   "execution_count": 91,
   "id": "37c5a89d-6eae-45eb-9f49-040c19651a49",
   "metadata": {},
   "outputs": [],
   "source": [
    "train_way, valid_way, test_way = 20, 5, 3\n",
    "    \n",
    "train_shot, valid_shot, test_shot = 5, 5, 100\n",
    "\n",
    "train_query, valid_query, test_query = 15, 15, 1\n",
    "\n",
    "_, valid_loader, test_loader = GetDataLoaders(train_dataset, train_shot, train_way, train_query,\n",
    "                                    valid_dataset, valid_shot, valid_way, valid_query,\n",
    "                                    test_dataset, test_shot, test_way, test_query\n",
    "                                    )\n",
    "\n",
    "X, y = next(iter(test_loader))\n",
    "\n",
    "X, y = X.squeeze(0), y.squeeze(0)\n",
    "\n",
    "sort = torch.sort(y)\n",
    "    \n",
    "X = X[sort.indices]\n",
    "    \n",
    "y = y[sort.indices]\n",
    "\n",
    "X = X.to(device)\n",
    "y = y.to(device)"
   ]
  },
  {
   "cell_type": "code",
   "execution_count": 92,
   "id": "df07eb0b-eafc-4292-99b8-4e79d859e803",
   "metadata": {},
   "outputs": [
    {
     "name": "stderr",
     "output_type": "stream",
     "text": [
      "/gpfs/u/home/PCPB/PCPBphmb/scratch/AI-CONDA/lib/python3.9/site-packages/sklearn/manifold/_t_sne.py:982: FutureWarning: The PCA initialization in TSNE will change to have the standard deviation of PC1 equal to 1e-4 in 1.2. This will ensure better convergence.\n",
      "  warnings.warn(\n"
     ]
    }
   ],
   "source": [
    "fq = clf2(X)\n",
    "cq = clf2.fit(fq, test_way, test_shot)\n",
    "\n",
    "cq = cq.cpu().detach().numpy()\n",
    "fq = fq.cpu().detach().numpy()\n",
    "\n",
    "fq_embedded = TSNE(n_components=2, perplexity=test_shot, learning_rate='auto',\n",
    "                      init='pca').fit_transform(fq)\n",
    "\n",
    "cq_embedded = TSNE(n_components=2, perplexity=test_way, learning_rate='auto',\n",
    "                      init='pca').fit_transform(cq)"
   ]
  },
  {
   "cell_type": "code",
   "execution_count": 170,
   "id": "14a0c8a0-27b5-4d96-b191-6e9da119676e",
   "metadata": {},
   "outputs": [
    {
     "data": {
      "image/png": "[encoded data removed]",
      "text/plain": [
       "<Figure size 576x576 with 1 Axes>"
      ]
     },
     "metadata": {
      "needs_background": "light"
     },
     "output_type": "display_data"
    }
   ],
   "source": [
    "labels = [i for i in range(test_way)]\n",
    "colors = ['red','green','blue','purple', 'black']\n",
    "\n",
    "plt.figure(figsize=(8, 8))\n",
    "plt.title(\"Prototypes Noise Rate 50%\\n\")\n",
    "\n",
    "plt.scatter(fq_embedded[:, 0], fq_embedded[:, 1], c=y.cpu().detach().numpy(), cmap=ListedColormap(colors), alpha=0.7, marker='+')\n",
    "plt.scatter(cq_embedded[:, 0], cq_embedded[:, 1], c=labels, cmap=ListedColormap(colors), s = 300, alpha = 0.8)\n",
    "\n",
    "plt.show()"
   ]
  },
  {
   "cell_type": "markdown",
   "id": "f1c695bb-1da7-4df7-a406-ae1fe15188cb",
   "metadata": {},
   "source": [
    "# Conclusion and Further Considerations"
   ]
  },
  {
   "cell_type": "markdown",
   "id": "ee94e4a1-d289-4f51-8d6a-d4961ddbc757",
   "metadata": {},
   "source": [
    "The work, done by Zhu et al., introduces a robust approach for computing prototypes in face of contaminated data. Through the experimental data, it is found that the method performs well, which support the data shown in the work. Meanwhile, the newly introduced loss function is also shown to perform well in constructing a robust and better performing ProtoNet in contrasts to the classic model and the one presented in Zhu et al. However, one thing to consider, based on observations, is that the distance metric utilized in both works (Snell et al. and Zhu et al.) is the squared euclidean distance, which is inadequate in high dimensionality; another metric should be considered instead. Additionally, without considering noise or contamination, we can further improve the embedding function and prototypes via taking into account spectral information. \n",
    "\n",
    "With such considerations, there are many directions to continue exploring the improvements of ProtoNet under contamination of data."
   ]
  }
 ],
 "metadata": {
  "kernelspec": {
   "display_name": "Python 3 (ipykernel)",
   "language": "python",
   "name": "python3"
  },
  "language_info": {
   "codemirror_mode": {
    "name": "ipython",
    "version": 3
   },
   "file_extension": ".py",
   "mimetype": "text/x-python",
   "name": "python",
   "nbconvert_exporter": "python",
   "pygments_lexer": "ipython3",
   "version": "3.9.7"
  }
 },
 "nbformat": 4,
 "nbformat_minor": 5
}
